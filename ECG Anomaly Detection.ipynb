{
 "cells": [
  {
   "cell_type": "code",
   "execution_count": 1,
   "id": "charming-generation",
   "metadata": {},
   "outputs": [
    {
     "name": "stdout",
     "output_type": "stream",
     "text": [
      "INFO:tensorflow:Enabling eager execution\n",
      "INFO:tensorflow:Enabling v2 tensorshape\n",
      "INFO:tensorflow:Enabling resource variables\n",
      "INFO:tensorflow:Enabling tensor equality\n",
      "INFO:tensorflow:Enabling control flow v2\n"
     ]
    }
   ],
   "source": [
    "import pandas as pd\n",
    "import matplotlib as mpl\n",
    "import matplotlib.pyplot as plt\n",
    "\n",
    "import tensorflow as tf\n",
    "from tensorflow.keras.models import Model\n",
    "import numpy as np\n",
    "\n",
    "from sklearn.model_selection import train_test_split\n",
    "from sklearn.preprocessing import MinMaxScaler, StandardScaler\n",
    "\n",
    "mpl.rcParams['figure.figsize'] = (10,8)\n",
    "mpl.rcParams['axes.grid'] = False"
   ]
  },
  {
   "cell_type": "code",
   "execution_count": 2,
   "id": "mediterranean-mongolia",
   "metadata": {},
   "outputs": [
    {
     "name": "stderr",
     "output_type": "stream",
     "text": [
      "<ipython-input-2-13264b6881a7>:1: ParserWarning: Falling back to the 'python' engine because the 'c' engine does not support regex separators (separators > 1 char and different from '\\s+' are interpreted as regex); you can avoid this warning by specifying engine='python'.\n",
      "  df1 = pd.read_csv('ECG5000_TEST.txt',sep='  ', header = None)\n",
      "<ipython-input-2-13264b6881a7>:2: ParserWarning: Falling back to the 'python' engine because the 'c' engine does not support regex separators (separators > 1 char and different from '\\s+' are interpreted as regex); you can avoid this warning by specifying engine='python'.\n",
      "  df2 = pd.read_csv('ECG5000_TRAIN.txt',sep='  ', header = None)\n"
     ]
    }
   ],
   "source": [
    "df1 = pd.read_csv('ECG5000_TEST.txt',sep='  ', header = None)\n",
    "df2 = pd.read_csv('ECG5000_TRAIN.txt',sep='  ', header = None)"
   ]
  },
  {
   "cell_type": "code",
   "execution_count": 3,
   "id": "military-priority",
   "metadata": {},
   "outputs": [],
   "source": [
    "df = pd.concat([df1, df2])"
   ]
  },
  {
   "cell_type": "code",
   "execution_count": 4,
   "id": "incredible-crazy",
   "metadata": {},
   "outputs": [
    {
     "data": {
      "text/html": [
       "<div>\n",
       "<style scoped>\n",
       "    .dataframe tbody tr th:only-of-type {\n",
       "        vertical-align: middle;\n",
       "    }\n",
       "\n",
       "    .dataframe tbody tr th {\n",
       "        vertical-align: top;\n",
       "    }\n",
       "\n",
       "    .dataframe thead th {\n",
       "        text-align: right;\n",
       "    }\n",
       "</style>\n",
       "<table border=\"1\" class=\"dataframe\">\n",
       "  <thead>\n",
       "    <tr style=\"text-align: right;\">\n",
       "      <th></th>\n",
       "      <th>0</th>\n",
       "      <th>1</th>\n",
       "      <th>2</th>\n",
       "      <th>3</th>\n",
       "      <th>4</th>\n",
       "      <th>5</th>\n",
       "      <th>6</th>\n",
       "      <th>7</th>\n",
       "      <th>8</th>\n",
       "      <th>9</th>\n",
       "      <th>...</th>\n",
       "      <th>131</th>\n",
       "      <th>132</th>\n",
       "      <th>133</th>\n",
       "      <th>134</th>\n",
       "      <th>135</th>\n",
       "      <th>136</th>\n",
       "      <th>137</th>\n",
       "      <th>138</th>\n",
       "      <th>139</th>\n",
       "      <th>140</th>\n",
       "    </tr>\n",
       "  </thead>\n",
       "  <tbody>\n",
       "    <tr>\n",
       "      <th>0</th>\n",
       "      <td>1.0</td>\n",
       "      <td>3.690844</td>\n",
       "      <td>0.711414</td>\n",
       "      <td>-2.114091</td>\n",
       "      <td>-4.141007</td>\n",
       "      <td>-4.574472</td>\n",
       "      <td>-3.431909</td>\n",
       "      <td>-1.950791</td>\n",
       "      <td>-1.107067</td>\n",
       "      <td>-0.632322</td>\n",
       "      <td>...</td>\n",
       "      <td>-0.032477</td>\n",
       "      <td>0.022847</td>\n",
       "      <td>0.188937</td>\n",
       "      <td>0.480932</td>\n",
       "      <td>0.629250</td>\n",
       "      <td>0.577291</td>\n",
       "      <td>0.665527</td>\n",
       "      <td>1.035997</td>\n",
       "      <td>1.492287</td>\n",
       "      <td>-1.905073</td>\n",
       "    </tr>\n",
       "    <tr>\n",
       "      <th>1</th>\n",
       "      <td>1.0</td>\n",
       "      <td>-1.348132</td>\n",
       "      <td>-3.996038</td>\n",
       "      <td>-4.226750</td>\n",
       "      <td>-4.251187</td>\n",
       "      <td>-3.477953</td>\n",
       "      <td>-2.228422</td>\n",
       "      <td>-1.808488</td>\n",
       "      <td>-1.534242</td>\n",
       "      <td>-0.779861</td>\n",
       "      <td>...</td>\n",
       "      <td>0.937984</td>\n",
       "      <td>1.570938</td>\n",
       "      <td>1.591394</td>\n",
       "      <td>1.549193</td>\n",
       "      <td>1.193077</td>\n",
       "      <td>0.515134</td>\n",
       "      <td>0.126274</td>\n",
       "      <td>0.267532</td>\n",
       "      <td>1.071148</td>\n",
       "      <td>-1.164009</td>\n",
       "    </tr>\n",
       "    <tr>\n",
       "      <th>2</th>\n",
       "      <td>1.0</td>\n",
       "      <td>1.024295</td>\n",
       "      <td>-0.590314</td>\n",
       "      <td>-1.916949</td>\n",
       "      <td>-2.806989</td>\n",
       "      <td>-3.527905</td>\n",
       "      <td>-3.638675</td>\n",
       "      <td>-2.779767</td>\n",
       "      <td>-2.019031</td>\n",
       "      <td>-1.980754</td>\n",
       "      <td>...</td>\n",
       "      <td>0.368820</td>\n",
       "      <td>0.443502</td>\n",
       "      <td>0.827582</td>\n",
       "      <td>1.237007</td>\n",
       "      <td>1.235121</td>\n",
       "      <td>1.738103</td>\n",
       "      <td>1.800767</td>\n",
       "      <td>1.816301</td>\n",
       "      <td>1.473963</td>\n",
       "      <td>1.389767</td>\n",
       "    </tr>\n",
       "    <tr>\n",
       "      <th>3</th>\n",
       "      <td>1.0</td>\n",
       "      <td>0.545657</td>\n",
       "      <td>-1.014383</td>\n",
       "      <td>-2.316698</td>\n",
       "      <td>-3.634040</td>\n",
       "      <td>-4.196857</td>\n",
       "      <td>-3.758093</td>\n",
       "      <td>-3.194444</td>\n",
       "      <td>-2.221764</td>\n",
       "      <td>-1.588554</td>\n",
       "      <td>...</td>\n",
       "      <td>0.894638</td>\n",
       "      <td>0.777530</td>\n",
       "      <td>1.119240</td>\n",
       "      <td>0.902984</td>\n",
       "      <td>0.554098</td>\n",
       "      <td>0.497053</td>\n",
       "      <td>0.418116</td>\n",
       "      <td>0.703108</td>\n",
       "      <td>1.064602</td>\n",
       "      <td>-0.044853</td>\n",
       "    </tr>\n",
       "    <tr>\n",
       "      <th>4</th>\n",
       "      <td>1.0</td>\n",
       "      <td>0.661133</td>\n",
       "      <td>-1.552471</td>\n",
       "      <td>-3.124641</td>\n",
       "      <td>-4.313351</td>\n",
       "      <td>-4.017042</td>\n",
       "      <td>-3.005993</td>\n",
       "      <td>-1.832411</td>\n",
       "      <td>-1.503886</td>\n",
       "      <td>-1.071705</td>\n",
       "      <td>...</td>\n",
       "      <td>1.416582</td>\n",
       "      <td>1.280823</td>\n",
       "      <td>1.494315</td>\n",
       "      <td>1.618764</td>\n",
       "      <td>1.447449</td>\n",
       "      <td>1.238577</td>\n",
       "      <td>1.749692</td>\n",
       "      <td>1.986803</td>\n",
       "      <td>1.422756</td>\n",
       "      <td>-0.357784</td>\n",
       "    </tr>\n",
       "    <tr>\n",
       "      <th>...</th>\n",
       "      <td>...</td>\n",
       "      <td>...</td>\n",
       "      <td>...</td>\n",
       "      <td>...</td>\n",
       "      <td>...</td>\n",
       "      <td>...</td>\n",
       "      <td>...</td>\n",
       "      <td>...</td>\n",
       "      <td>...</td>\n",
       "      <td>...</td>\n",
       "      <td>...</td>\n",
       "      <td>...</td>\n",
       "      <td>...</td>\n",
       "      <td>...</td>\n",
       "      <td>...</td>\n",
       "      <td>...</td>\n",
       "      <td>...</td>\n",
       "      <td>...</td>\n",
       "      <td>...</td>\n",
       "      <td>...</td>\n",
       "      <td>...</td>\n",
       "    </tr>\n",
       "    <tr>\n",
       "      <th>495</th>\n",
       "      <td>4.0</td>\n",
       "      <td>-0.478577</td>\n",
       "      <td>-1.779959</td>\n",
       "      <td>-2.398159</td>\n",
       "      <td>-3.170112</td>\n",
       "      <td>-3.559732</td>\n",
       "      <td>-3.573956</td>\n",
       "      <td>-2.989770</td>\n",
       "      <td>-2.270605</td>\n",
       "      <td>-1.688277</td>\n",
       "      <td>...</td>\n",
       "      <td>1.294840</td>\n",
       "      <td>1.160885</td>\n",
       "      <td>1.456331</td>\n",
       "      <td>2.209421</td>\n",
       "      <td>2.507175</td>\n",
       "      <td>2.198534</td>\n",
       "      <td>1.705849</td>\n",
       "      <td>1.492642</td>\n",
       "      <td>1.561890</td>\n",
       "      <td>1.520161</td>\n",
       "    </tr>\n",
       "    <tr>\n",
       "      <th>496</th>\n",
       "      <td>4.0</td>\n",
       "      <td>-1.325210</td>\n",
       "      <td>-2.480992</td>\n",
       "      <td>-2.965356</td>\n",
       "      <td>-3.342392</td>\n",
       "      <td>-3.176351</td>\n",
       "      <td>-2.891528</td>\n",
       "      <td>-2.369679</td>\n",
       "      <td>-1.598750</td>\n",
       "      <td>-1.071751</td>\n",
       "      <td>...</td>\n",
       "      <td>0.552076</td>\n",
       "      <td>-0.172154</td>\n",
       "      <td>-0.864803</td>\n",
       "      <td>-1.549854</td>\n",
       "      <td>-2.460243</td>\n",
       "      <td>-3.366562</td>\n",
       "      <td>-3.466546</td>\n",
       "      <td>-2.718380</td>\n",
       "      <td>-1.855209</td>\n",
       "      <td>-1.539958</td>\n",
       "    </tr>\n",
       "    <tr>\n",
       "      <th>497</th>\n",
       "      <td>4.0</td>\n",
       "      <td>-0.021964</td>\n",
       "      <td>-0.912434</td>\n",
       "      <td>-1.903353</td>\n",
       "      <td>-2.662829</td>\n",
       "      <td>-3.122156</td>\n",
       "      <td>-3.451490</td>\n",
       "      <td>-3.392982</td>\n",
       "      <td>-2.929937</td>\n",
       "      <td>-2.256294</td>\n",
       "      <td>...</td>\n",
       "      <td>1.528745</td>\n",
       "      <td>1.339479</td>\n",
       "      <td>1.457995</td>\n",
       "      <td>2.128078</td>\n",
       "      <td>2.630759</td>\n",
       "      <td>2.295748</td>\n",
       "      <td>1.764967</td>\n",
       "      <td>1.444280</td>\n",
       "      <td>1.432347</td>\n",
       "      <td>1.457028</td>\n",
       "    </tr>\n",
       "    <tr>\n",
       "      <th>498</th>\n",
       "      <td>5.0</td>\n",
       "      <td>0.288011</td>\n",
       "      <td>-1.098020</td>\n",
       "      <td>-2.500250</td>\n",
       "      <td>-3.598599</td>\n",
       "      <td>-3.650608</td>\n",
       "      <td>-3.281587</td>\n",
       "      <td>-2.231601</td>\n",
       "      <td>-1.250656</td>\n",
       "      <td>-1.072574</td>\n",
       "      <td>...</td>\n",
       "      <td>0.081634</td>\n",
       "      <td>-0.029242</td>\n",
       "      <td>0.071414</td>\n",
       "      <td>0.118161</td>\n",
       "      <td>-0.071967</td>\n",
       "      <td>-0.171214</td>\n",
       "      <td>0.131211</td>\n",
       "      <td>0.049872</td>\n",
       "      <td>0.010915</td>\n",
       "      <td>-0.081534</td>\n",
       "    </tr>\n",
       "    <tr>\n",
       "      <th>499</th>\n",
       "      <td>5.0</td>\n",
       "      <td>-1.133674</td>\n",
       "      <td>-2.702941</td>\n",
       "      <td>-3.120979</td>\n",
       "      <td>-3.558669</td>\n",
       "      <td>-3.312442</td>\n",
       "      <td>-2.607641</td>\n",
       "      <td>-1.354939</td>\n",
       "      <td>-1.014740</td>\n",
       "      <td>-0.796023</td>\n",
       "      <td>...</td>\n",
       "      <td>-2.886340</td>\n",
       "      <td>-3.206942</td>\n",
       "      <td>-2.941677</td>\n",
       "      <td>-2.557140</td>\n",
       "      <td>-1.487946</td>\n",
       "      <td>-1.118880</td>\n",
       "      <td>-0.737113</td>\n",
       "      <td>-0.110840</td>\n",
       "      <td>0.001858</td>\n",
       "      <td>-0.122639</td>\n",
       "    </tr>\n",
       "  </tbody>\n",
       "</table>\n",
       "<p>5000 rows × 141 columns</p>\n",
       "</div>"
      ],
      "text/plain": [
       "     0         1         2         3         4         5         6    \\\n",
       "0    1.0  3.690844  0.711414 -2.114091 -4.141007 -4.574472 -3.431909   \n",
       "1    1.0 -1.348132 -3.996038 -4.226750 -4.251187 -3.477953 -2.228422   \n",
       "2    1.0  1.024295 -0.590314 -1.916949 -2.806989 -3.527905 -3.638675   \n",
       "3    1.0  0.545657 -1.014383 -2.316698 -3.634040 -4.196857 -3.758093   \n",
       "4    1.0  0.661133 -1.552471 -3.124641 -4.313351 -4.017042 -3.005993   \n",
       "..   ...       ...       ...       ...       ...       ...       ...   \n",
       "495  4.0 -0.478577 -1.779959 -2.398159 -3.170112 -3.559732 -3.573956   \n",
       "496  4.0 -1.325210 -2.480992 -2.965356 -3.342392 -3.176351 -2.891528   \n",
       "497  4.0 -0.021964 -0.912434 -1.903353 -2.662829 -3.122156 -3.451490   \n",
       "498  5.0  0.288011 -1.098020 -2.500250 -3.598599 -3.650608 -3.281587   \n",
       "499  5.0 -1.133674 -2.702941 -3.120979 -3.558669 -3.312442 -2.607641   \n",
       "\n",
       "          7         8         9    ...       131       132       133  \\\n",
       "0   -1.950791 -1.107067 -0.632322  ... -0.032477  0.022847  0.188937   \n",
       "1   -1.808488 -1.534242 -0.779861  ...  0.937984  1.570938  1.591394   \n",
       "2   -2.779767 -2.019031 -1.980754  ...  0.368820  0.443502  0.827582   \n",
       "3   -3.194444 -2.221764 -1.588554  ...  0.894638  0.777530  1.119240   \n",
       "4   -1.832411 -1.503886 -1.071705  ...  1.416582  1.280823  1.494315   \n",
       "..        ...       ...       ...  ...       ...       ...       ...   \n",
       "495 -2.989770 -2.270605 -1.688277  ...  1.294840  1.160885  1.456331   \n",
       "496 -2.369679 -1.598750 -1.071751  ...  0.552076 -0.172154 -0.864803   \n",
       "497 -3.392982 -2.929937 -2.256294  ...  1.528745  1.339479  1.457995   \n",
       "498 -2.231601 -1.250656 -1.072574  ...  0.081634 -0.029242  0.071414   \n",
       "499 -1.354939 -1.014740 -0.796023  ... -2.886340 -3.206942 -2.941677   \n",
       "\n",
       "          134       135       136       137       138       139       140  \n",
       "0    0.480932  0.629250  0.577291  0.665527  1.035997  1.492287 -1.905073  \n",
       "1    1.549193  1.193077  0.515134  0.126274  0.267532  1.071148 -1.164009  \n",
       "2    1.237007  1.235121  1.738103  1.800767  1.816301  1.473963  1.389767  \n",
       "3    0.902984  0.554098  0.497053  0.418116  0.703108  1.064602 -0.044853  \n",
       "4    1.618764  1.447449  1.238577  1.749692  1.986803  1.422756 -0.357784  \n",
       "..        ...       ...       ...       ...       ...       ...       ...  \n",
       "495  2.209421  2.507175  2.198534  1.705849  1.492642  1.561890  1.520161  \n",
       "496 -1.549854 -2.460243 -3.366562 -3.466546 -2.718380 -1.855209 -1.539958  \n",
       "497  2.128078  2.630759  2.295748  1.764967  1.444280  1.432347  1.457028  \n",
       "498  0.118161 -0.071967 -0.171214  0.131211  0.049872  0.010915 -0.081534  \n",
       "499 -2.557140 -1.487946 -1.118880 -0.737113 -0.110840  0.001858 -0.122639  \n",
       "\n",
       "[5000 rows x 141 columns]"
      ]
     },
     "execution_count": 4,
     "metadata": {},
     "output_type": "execute_result"
    }
   ],
   "source": [
    "df"
   ]
  },
  {
   "cell_type": "code",
   "execution_count": 5,
   "id": "laughing-regular",
   "metadata": {},
   "outputs": [
    {
     "data": {
      "text/plain": [
       "Int64Index([  0,   1,   2,   3,   4,   5,   6,   7,   8,   9,\n",
       "            ...\n",
       "            131, 132, 133, 134, 135, 136, 137, 138, 139, 140],\n",
       "           dtype='int64', length=141)"
      ]
     },
     "execution_count": 5,
     "metadata": {},
     "output_type": "execute_result"
    }
   ],
   "source": [
    "df.columns\n"
   ]
  },
  {
   "cell_type": "code",
   "execution_count": 6,
   "id": "caring-moscow",
   "metadata": {},
   "outputs": [],
   "source": [
    "df = df.add_prefix('c')"
   ]
  },
  {
   "cell_type": "code",
   "execution_count": 7,
   "id": "ordinary-technology",
   "metadata": {},
   "outputs": [
    {
     "data": {
      "text/plain": [
       "1.0    2919\n",
       "2.0    1767\n",
       "4.0     194\n",
       "3.0      96\n",
       "5.0      24\n",
       "Name: c0, dtype: int64"
      ]
     },
     "execution_count": 7,
     "metadata": {},
     "output_type": "execute_result"
    }
   ],
   "source": [
    "df['c0'].value_counts()"
   ]
  },
  {
   "cell_type": "code",
   "execution_count": 8,
   "id": "hawaiian-steps",
   "metadata": {},
   "outputs": [
    {
     "data": {
      "text/html": [
       "<div>\n",
       "<style scoped>\n",
       "    .dataframe tbody tr th:only-of-type {\n",
       "        vertical-align: middle;\n",
       "    }\n",
       "\n",
       "    .dataframe tbody tr th {\n",
       "        vertical-align: top;\n",
       "    }\n",
       "\n",
       "    .dataframe thead th {\n",
       "        text-align: right;\n",
       "    }\n",
       "</style>\n",
       "<table border=\"1\" class=\"dataframe\">\n",
       "  <thead>\n",
       "    <tr style=\"text-align: right;\">\n",
       "      <th></th>\n",
       "      <th>c0</th>\n",
       "      <th>c1</th>\n",
       "      <th>c2</th>\n",
       "      <th>c3</th>\n",
       "      <th>c4</th>\n",
       "      <th>c5</th>\n",
       "      <th>c6</th>\n",
       "      <th>c7</th>\n",
       "      <th>c8</th>\n",
       "      <th>c9</th>\n",
       "      <th>...</th>\n",
       "      <th>c131</th>\n",
       "      <th>c132</th>\n",
       "      <th>c133</th>\n",
       "      <th>c134</th>\n",
       "      <th>c135</th>\n",
       "      <th>c136</th>\n",
       "      <th>c137</th>\n",
       "      <th>c138</th>\n",
       "      <th>c139</th>\n",
       "      <th>c140</th>\n",
       "    </tr>\n",
       "  </thead>\n",
       "  <tbody>\n",
       "    <tr>\n",
       "      <th>count</th>\n",
       "      <td>5000.000000</td>\n",
       "      <td>5000.000000</td>\n",
       "      <td>5000.000000</td>\n",
       "      <td>5000.000000</td>\n",
       "      <td>5000.000000</td>\n",
       "      <td>5000.000000</td>\n",
       "      <td>5000.000000</td>\n",
       "      <td>5000.000000</td>\n",
       "      <td>5000.000000</td>\n",
       "      <td>5000.000000</td>\n",
       "      <td>...</td>\n",
       "      <td>5000.000000</td>\n",
       "      <td>5000.000000</td>\n",
       "      <td>5000.000000</td>\n",
       "      <td>5000.000000</td>\n",
       "      <td>5000.000000</td>\n",
       "      <td>5000.000000</td>\n",
       "      <td>5000.000000</td>\n",
       "      <td>5000.000000</td>\n",
       "      <td>5000.000000</td>\n",
       "      <td>5000.000000</td>\n",
       "    </tr>\n",
       "    <tr>\n",
       "      <th>mean</th>\n",
       "      <td>1.527400</td>\n",
       "      <td>-0.262476</td>\n",
       "      <td>-1.649511</td>\n",
       "      <td>-2.492211</td>\n",
       "      <td>-3.119443</td>\n",
       "      <td>-3.167438</td>\n",
       "      <td>-2.866308</td>\n",
       "      <td>-2.273126</td>\n",
       "      <td>-1.798127</td>\n",
       "      <td>-1.410124</td>\n",
       "      <td>...</td>\n",
       "      <td>0.146319</td>\n",
       "      <td>0.070973</td>\n",
       "      <td>-0.062914</td>\n",
       "      <td>-0.276206</td>\n",
       "      <td>-0.507667</td>\n",
       "      <td>-0.761043</td>\n",
       "      <td>-0.834741</td>\n",
       "      <td>-0.642263</td>\n",
       "      <td>-0.487242</td>\n",
       "      <td>-0.706008</td>\n",
       "    </tr>\n",
       "    <tr>\n",
       "      <th>std</th>\n",
       "      <td>0.760372</td>\n",
       "      <td>1.152369</td>\n",
       "      <td>1.445493</td>\n",
       "      <td>1.386409</td>\n",
       "      <td>1.302802</td>\n",
       "      <td>1.104382</td>\n",
       "      <td>0.906133</td>\n",
       "      <td>0.731627</td>\n",
       "      <td>0.623100</td>\n",
       "      <td>0.637149</td>\n",
       "      <td>...</td>\n",
       "      <td>1.171299</td>\n",
       "      <td>1.404842</td>\n",
       "      <td>1.646585</td>\n",
       "      <td>1.895134</td>\n",
       "      <td>2.059758</td>\n",
       "      <td>2.086218</td>\n",
       "      <td>2.056220</td>\n",
       "      <td>1.859296</td>\n",
       "      <td>1.830987</td>\n",
       "      <td>1.414465</td>\n",
       "    </tr>\n",
       "    <tr>\n",
       "      <th>min</th>\n",
       "      <td>1.000000</td>\n",
       "      <td>-6.729499</td>\n",
       "      <td>-7.090374</td>\n",
       "      <td>-5.132459</td>\n",
       "      <td>-5.363241</td>\n",
       "      <td>-5.375715</td>\n",
       "      <td>-5.330194</td>\n",
       "      <td>-4.782240</td>\n",
       "      <td>-4.311288</td>\n",
       "      <td>-4.071361</td>\n",
       "      <td>...</td>\n",
       "      <td>-3.971715</td>\n",
       "      <td>-4.167040</td>\n",
       "      <td>-4.557576</td>\n",
       "      <td>-4.530488</td>\n",
       "      <td>-4.563270</td>\n",
       "      <td>-5.150100</td>\n",
       "      <td>-4.880460</td>\n",
       "      <td>-5.496107</td>\n",
       "      <td>-5.880890</td>\n",
       "      <td>-6.092227</td>\n",
       "    </tr>\n",
       "    <tr>\n",
       "      <th>25%</th>\n",
       "      <td>1.000000</td>\n",
       "      <td>-1.004511</td>\n",
       "      <td>-2.701576</td>\n",
       "      <td>-3.668096</td>\n",
       "      <td>-4.227247</td>\n",
       "      <td>-4.007470</td>\n",
       "      <td>-3.480479</td>\n",
       "      <td>-2.779941</td>\n",
       "      <td>-2.165851</td>\n",
       "      <td>-1.774124</td>\n",
       "      <td>...</td>\n",
       "      <td>-0.655753</td>\n",
       "      <td>-1.089300</td>\n",
       "      <td>-1.588885</td>\n",
       "      <td>-2.147449</td>\n",
       "      <td>-2.731550</td>\n",
       "      <td>-3.030509</td>\n",
       "      <td>-2.868331</td>\n",
       "      <td>-2.153513</td>\n",
       "      <td>-1.657771</td>\n",
       "      <td>-1.596692</td>\n",
       "    </tr>\n",
       "    <tr>\n",
       "      <th>50%</th>\n",
       "      <td>1.000000</td>\n",
       "      <td>-0.297541</td>\n",
       "      <td>-1.661892</td>\n",
       "      <td>-2.585677</td>\n",
       "      <td>-3.387934</td>\n",
       "      <td>-3.468718</td>\n",
       "      <td>-2.947061</td>\n",
       "      <td>-2.285578</td>\n",
       "      <td>-1.750157</td>\n",
       "      <td>-1.422570</td>\n",
       "      <td>...</td>\n",
       "      <td>0.473642</td>\n",
       "      <td>0.658318</td>\n",
       "      <td>0.717808</td>\n",
       "      <td>0.604747</td>\n",
       "      <td>0.334857</td>\n",
       "      <td>-0.030767</td>\n",
       "      <td>-0.195151</td>\n",
       "      <td>-0.194423</td>\n",
       "      <td>-0.160262</td>\n",
       "      <td>-0.565588</td>\n",
       "    </tr>\n",
       "    <tr>\n",
       "      <th>75%</th>\n",
       "      <td>2.000000</td>\n",
       "      <td>0.500061</td>\n",
       "      <td>-0.677290</td>\n",
       "      <td>-1.513964</td>\n",
       "      <td>-2.235369</td>\n",
       "      <td>-2.530967</td>\n",
       "      <td>-2.398813</td>\n",
       "      <td>-1.823494</td>\n",
       "      <td>-1.484923</td>\n",
       "      <td>-1.063708</td>\n",
       "      <td>...</td>\n",
       "      <td>1.062134</td>\n",
       "      <td>1.169420</td>\n",
       "      <td>1.238687</td>\n",
       "      <td>1.264471</td>\n",
       "      <td>1.234433</td>\n",
       "      <td>1.034584</td>\n",
       "      <td>0.945237</td>\n",
       "      <td>0.951681</td>\n",
       "      <td>1.002692</td>\n",
       "      <td>0.272012</td>\n",
       "    </tr>\n",
       "    <tr>\n",
       "      <th>max</th>\n",
       "      <td>5.000000</td>\n",
       "      <td>4.966414</td>\n",
       "      <td>3.479689</td>\n",
       "      <td>2.660597</td>\n",
       "      <td>1.899798</td>\n",
       "      <td>2.147015</td>\n",
       "      <td>1.614375</td>\n",
       "      <td>1.868728</td>\n",
       "      <td>1.804251</td>\n",
       "      <td>1.683730</td>\n",
       "      <td>...</td>\n",
       "      <td>2.960969</td>\n",
       "      <td>3.007606</td>\n",
       "      <td>2.854680</td>\n",
       "      <td>2.912394</td>\n",
       "      <td>2.937685</td>\n",
       "      <td>3.351437</td>\n",
       "      <td>3.432519</td>\n",
       "      <td>3.579448</td>\n",
       "      <td>4.425976</td>\n",
       "      <td>7.402103</td>\n",
       "    </tr>\n",
       "  </tbody>\n",
       "</table>\n",
       "<p>8 rows × 141 columns</p>\n",
       "</div>"
      ],
      "text/plain": [
       "                c0           c1           c2           c3           c4  \\\n",
       "count  5000.000000  5000.000000  5000.000000  5000.000000  5000.000000   \n",
       "mean      1.527400    -0.262476    -1.649511    -2.492211    -3.119443   \n",
       "std       0.760372     1.152369     1.445493     1.386409     1.302802   \n",
       "min       1.000000    -6.729499    -7.090374    -5.132459    -5.363241   \n",
       "25%       1.000000    -1.004511    -2.701576    -3.668096    -4.227247   \n",
       "50%       1.000000    -0.297541    -1.661892    -2.585677    -3.387934   \n",
       "75%       2.000000     0.500061    -0.677290    -1.513964    -2.235369   \n",
       "max       5.000000     4.966414     3.479689     2.660597     1.899798   \n",
       "\n",
       "                c5           c6           c7           c8           c9  ...  \\\n",
       "count  5000.000000  5000.000000  5000.000000  5000.000000  5000.000000  ...   \n",
       "mean     -3.167438    -2.866308    -2.273126    -1.798127    -1.410124  ...   \n",
       "std       1.104382     0.906133     0.731627     0.623100     0.637149  ...   \n",
       "min      -5.375715    -5.330194    -4.782240    -4.311288    -4.071361  ...   \n",
       "25%      -4.007470    -3.480479    -2.779941    -2.165851    -1.774124  ...   \n",
       "50%      -3.468718    -2.947061    -2.285578    -1.750157    -1.422570  ...   \n",
       "75%      -2.530967    -2.398813    -1.823494    -1.484923    -1.063708  ...   \n",
       "max       2.147015     1.614375     1.868728     1.804251     1.683730  ...   \n",
       "\n",
       "              c131         c132         c133         c134         c135  \\\n",
       "count  5000.000000  5000.000000  5000.000000  5000.000000  5000.000000   \n",
       "mean      0.146319     0.070973    -0.062914    -0.276206    -0.507667   \n",
       "std       1.171299     1.404842     1.646585     1.895134     2.059758   \n",
       "min      -3.971715    -4.167040    -4.557576    -4.530488    -4.563270   \n",
       "25%      -0.655753    -1.089300    -1.588885    -2.147449    -2.731550   \n",
       "50%       0.473642     0.658318     0.717808     0.604747     0.334857   \n",
       "75%       1.062134     1.169420     1.238687     1.264471     1.234433   \n",
       "max       2.960969     3.007606     2.854680     2.912394     2.937685   \n",
       "\n",
       "              c136         c137         c138         c139         c140  \n",
       "count  5000.000000  5000.000000  5000.000000  5000.000000  5000.000000  \n",
       "mean     -0.761043    -0.834741    -0.642263    -0.487242    -0.706008  \n",
       "std       2.086218     2.056220     1.859296     1.830987     1.414465  \n",
       "min      -5.150100    -4.880460    -5.496107    -5.880890    -6.092227  \n",
       "25%      -3.030509    -2.868331    -2.153513    -1.657771    -1.596692  \n",
       "50%      -0.030767    -0.195151    -0.194423    -0.160262    -0.565588  \n",
       "75%       1.034584     0.945237     0.951681     1.002692     0.272012  \n",
       "max       3.351437     3.432519     3.579448     4.425976     7.402103  \n",
       "\n",
       "[8 rows x 141 columns]"
      ]
     },
     "execution_count": 8,
     "metadata": {},
     "output_type": "execute_result"
    }
   ],
   "source": [
    "df.describe()"
   ]
  },
  {
   "cell_type": "code",
   "execution_count": 9,
   "id": "norwegian-split",
   "metadata": {},
   "outputs": [],
   "source": [
    "train_data, test_data, train_labels, test_labels = train_test_split(df.values, df.values[:,0:1], test_size = 0.2, random_state = 111)"
   ]
  },
  {
   "cell_type": "code",
   "execution_count": 10,
   "id": "viral-punch",
   "metadata": {},
   "outputs": [],
   "source": [
    "scaler = MinMaxScaler()"
   ]
  },
  {
   "cell_type": "code",
   "execution_count": 11,
   "id": "ancient-affiliate",
   "metadata": {},
   "outputs": [],
   "source": [
    "data_scaled = scaler.fit(train_data)"
   ]
  },
  {
   "cell_type": "code",
   "execution_count": 12,
   "id": "according-frost",
   "metadata": {},
   "outputs": [],
   "source": [
    "train_data_scaled = data_scaled.transform(train_data)\n",
    "test_data_scaled = data_scaled.transform(test_data)"
   ]
  },
  {
   "cell_type": "code",
   "execution_count": 13,
   "id": "realistic-outreach",
   "metadata": {},
   "outputs": [
    {
     "data": {
      "text/plain": [
       "array([[0.        , 0.68350165, 0.84555441, ..., 0.50027762, 0.49587899,\n",
       "        0.39114839],\n",
       "       [0.        , 0.44621304, 0.31053752, ..., 0.77834844, 0.78233943,\n",
       "        0.46629036],\n",
       "       [0.        , 0.71203288, 0.64553551, ..., 0.83309413, 0.67825035,\n",
       "        0.51983982],\n",
       "       ...,\n",
       "       [0.25      , 0.36459305, 0.40436209, ..., 0.2880798 , 0.36659954,\n",
       "        0.39484257],\n",
       "       [0.        , 0.44695501, 0.3526011 , ..., 0.7355411 , 0.60488833,\n",
       "        0.30667936],\n",
       "       [0.25      , 0.51092627, 0.53072929, ..., 0.27098994, 0.35724797,\n",
       "        0.39934207]])"
      ]
     },
     "execution_count": 13,
     "metadata": {},
     "output_type": "execute_result"
    }
   ],
   "source": [
    "train_data_scaled"
   ]
  },
  {
   "cell_type": "code",
   "execution_count": 14,
   "id": "checked-institute",
   "metadata": {},
   "outputs": [],
   "source": [
    "normal_train_data = pd.DataFrame(train_data_scaled).add_prefix('c').query('c0==0').values[:,1:]\n",
    "anomaly_train_data = pd.DataFrame(train_data_scaled).add_prefix('c').query('c0>0').values[:,1:]"
   ]
  },
  {
   "cell_type": "code",
   "execution_count": 16,
   "id": "missing-boring",
   "metadata": {},
   "outputs": [
    {
     "data": {
      "text/plain": [
       "array([0.68350165, 0.84555441, 0.69593827, 0.59489329, 0.40366081,\n",
       "       0.22951262, 0.22956923, 0.34856859, 0.47911632, 0.53663546,\n",
       "       0.59382236, 0.68962349, 0.68734143, 0.71935486, 0.69759656,\n",
       "       0.67137234, 0.63923203, 0.69446794, 0.65206664, 0.63706869,\n",
       "       0.60677776, 0.67395134, 0.68062489, 0.69240026, 0.70923525,\n",
       "       0.64485645, 0.64030619, 0.55993455, 0.51455675, 0.62334069,\n",
       "       0.64608077, 0.62519485, 0.59527381, 0.54257912, 0.47454235,\n",
       "       0.52241564, 0.56772172, 0.55530842, 0.50930876, 0.52737405,\n",
       "       0.60448225, 0.61284081, 0.52673091, 0.58312978, 0.55108749,\n",
       "       0.49248587, 0.4594052 , 0.5229738 , 0.60194529, 0.65509898,\n",
       "       0.63751177, 0.62055723, 0.63212288, 0.62164274, 0.65767674,\n",
       "       0.67516734, 0.65152729, 0.64113323, 0.70440507, 0.71998202,\n",
       "       0.69360386, 0.6995709 , 0.70611529, 0.73121126, 0.69916577,\n",
       "       0.68722216, 0.67128677, 0.70618745, 0.82442276, 0.73662482,\n",
       "       0.79093324, 0.80759476, 0.78001227, 0.72479591, 0.86648596,\n",
       "       0.87420755, 0.72454125, 0.73026787, 0.7562267 , 0.79363713,\n",
       "       0.82845727, 0.79546625, 0.73801814, 0.64513221, 0.60093103,\n",
       "       0.57225786, 0.60369363, 0.65412148, 0.63113159, 0.65065793,\n",
       "       0.60856812, 0.60712779, 0.61223048, 0.67939903, 0.65785384,\n",
       "       0.62467295, 0.59939357, 0.56327537, 0.58072313, 0.57981574,\n",
       "       0.62443965, 0.64908165, 0.64294527, 0.68684793, 0.77828992,\n",
       "       0.80994895, 0.91657774, 0.95600249, 0.99313106, 0.93339276,\n",
       "       0.90287063, 0.78855038, 0.66744418, 0.59493107, 0.4706905 ,\n",
       "       0.4084203 , 0.32407895, 0.2499786 , 0.30267526, 0.41800085,\n",
       "       0.4352421 , 0.33336493, 0.25460646, 0.2737265 , 0.28562971,\n",
       "       0.36818017, 0.45003561, 0.40612813, 0.33408051, 0.37740554,\n",
       "       0.41988103, 0.58082481, 0.65889066, 0.59190537, 0.5796529 ,\n",
       "       0.57981639, 0.50299992, 0.50027762, 0.49587899, 0.39114839])"
      ]
     },
     "execution_count": 16,
     "metadata": {},
     "output_type": "execute_result"
    }
   ],
   "source": [
    "normal_train_data[0]"
   ]
  },
  {
   "cell_type": "code",
   "execution_count": 69,
   "id": "imperial-moldova",
   "metadata": {},
   "outputs": [],
   "source": [
    "normal_test_data = pd.DataFrame(test_data_scaled).add_prefix('c').query('c0==0').values[:,1:]\n",
    "anomaly_test_data = pd.DataFrame(test_data_scaled).add_prefix('c').query('c0>0').values[:,1:]"
   ]
  },
  {
   "cell_type": "code",
   "execution_count": 70,
   "id": "contrary-seafood",
   "metadata": {},
   "outputs": [
    {
     "name": "stdout",
     "output_type": "stream",
     "text": [
      "(2361, 140)\n",
      "(558, 140)\n"
     ]
    }
   ],
   "source": [
    "print(normal_train_data.shape)\n",
    "print(normal_test_data.shape)"
   ]
  },
  {
   "cell_type": "code",
   "execution_count": 71,
   "id": "smoking-questionnaire",
   "metadata": {},
   "outputs": [
    {
     "data": {
      "text/plain": [
       "[<matplotlib.lines.Line2D at 0x1e689a56d30>]"
      ]
     },
     "execution_count": 71,
     "metadata": {},
     "output_type": "execute_result"
    },
    {
     "data": {
      "image/png": "[encoded data removed]",
      "text/plain": [
       "<Figure size 720x576 with 1 Axes>"
      ]
     },
     "metadata": {
      "needs_background": "light"
     },
     "output_type": "display_data"
    }
   ],
   "source": [
    "plt.plot(normal_train_data[0])\n",
    "plt.plot(normal_train_data[1])\n",
    "plt.plot(normal_train_data[2])"
   ]
  },
  {
   "cell_type": "code",
   "execution_count": 72,
   "id": "verbal-summit",
   "metadata": {
    "scrolled": false
   },
   "outputs": [
    {
     "data": {
      "text/plain": [
       "[<matplotlib.lines.Line2D at 0x1e689a3f190>]"
      ]
     },
     "execution_count": 72,
     "metadata": {},
     "output_type": "execute_result"
    },
    {
     "data": {
      "image/png": "[encoded data removed]",
      "text/plain": [
       "<Figure size 720x576 with 1 Axes>"
      ]
     },
     "metadata": {
      "needs_background": "light"
     },
     "output_type": "display_data"
    }
   ],
   "source": [
    "plt.plot(anomaly_train_data[0])\n",
    "plt.plot(anomaly_train_data[1])\n",
    "plt.plot(anomaly_train_data[2])"
   ]
  },
  {
   "cell_type": "code",
   "execution_count": 73,
   "id": "emerging-lodge",
   "metadata": {},
   "outputs": [],
   "source": [
    "model = tf.keras.Sequential()\n",
    "model.add(tf.keras.layers.Dense(64, activation='relu'))\n",
    "model.add(tf.keras.layers.Dense(32, activation='relu'))\n",
    "model.add(tf.keras.layers.Dense(16, activation='relu'))\n",
    "model.add(tf.keras.layers.Dense(8, activation='relu'))\n",
    "model.add(tf.keras.layers.Dense(16, activation='relu'))\n",
    "model.add(tf.keras.layers.Dense(32, activation='relu'))\n",
    "model.add(tf.keras.layers.Dense(64, activation='relu'))\n",
    "model.add(tf.keras.layers.Dense(140, activation='sigmoid'))"
   ]
  },
  {
   "cell_type": "code",
   "execution_count": 74,
   "id": "informational-questionnaire",
   "metadata": {},
   "outputs": [],
   "source": [
    "class AutoEncoder(Model):\n",
    "    def __init__(self):\n",
    "        super(AutoEncoder, self).__init__()\n",
    "        self.encoder = tf.keras.Sequential([\n",
    "            tf.keras.layers.Dense(64, activation='relu'),\n",
    "            tf.keras.layers.Dense(32, activation='relu'),\n",
    "            tf.keras.layers.Dense(16, activation='relu'),\n",
    "            tf.keras.layers.Dense(8, activation='relu')\n",
    "        ])\n",
    "        \n",
    "        self.decoder = tf.keras.Sequential([\n",
    "            tf.keras.layers.Dense(16,activation='relu'),\n",
    "            tf.keras.layers.Dense(32,activation='relu'),\n",
    "            tf.keras.layers.Dense(64,activation='relu'),\n",
    "            tf.keras.layers.Dense(140,activation='sigmoid'),\n",
    "        ])\n",
    "    \n",
    "    def call(self, x):\n",
    "        encoded = self.encoder(x)\n",
    "        decoded = self.decoder(encoded)\n",
    "        return decoded"
   ]
  },
  {
   "cell_type": "code",
   "execution_count": 77,
   "id": "forced-uganda",
   "metadata": {},
   "outputs": [],
   "source": [
    "model = AutoEncoder()\n",
    "early_stopping = tf.keras.callbacks.EarlyStopping(monitor='val_loss', \n",
    "                                                  patience=10, \n",
    "                                                  mode = 'min')\n",
    "model.compile(optimizer='adam', loss='mae')"
   ]
  },
  {
   "cell_type": "code",
   "execution_count": 78,
   "id": "explicit-parish",
   "metadata": {},
   "outputs": [
    {
     "name": "stdout",
     "output_type": "stream",
     "text": [
      "Epoch 1/50\n",
      "19/19 [==============================] - 1s 20ms/step - loss: 0.1407 - val_loss: 0.1286\n",
      "Epoch 2/50\n",
      "19/19 [==============================] - 0s 7ms/step - loss: 0.1074 - val_loss: 0.0824\n",
      "Epoch 3/50\n",
      "19/19 [==============================] - 0s 6ms/step - loss: 0.0595 - val_loss: 0.0751\n",
      "Epoch 4/50\n",
      "19/19 [==============================] - 0s 7ms/step - loss: 0.0481 - val_loss: 0.0746\n",
      "Epoch 5/50\n",
      "19/19 [==============================] - 0s 7ms/step - loss: 0.0463 - val_loss: 0.0740\n",
      "Epoch 6/50\n",
      "19/19 [==============================] - 0s 10ms/step - loss: 0.0459 - val_loss: 0.0743\n",
      "Epoch 7/50\n",
      "19/19 [==============================] - 0s 10ms/step - loss: 0.0458 - val_loss: 0.0734\n",
      "Epoch 8/50\n",
      "19/19 [==============================] - 0s 8ms/step - loss: 0.0460 - val_loss: 0.0728\n",
      "Epoch 9/50\n",
      "19/19 [==============================] - 0s 8ms/step - loss: 0.0443 - val_loss: 0.0722\n",
      "Epoch 10/50\n",
      "19/19 [==============================] - 0s 7ms/step - loss: 0.0439 - val_loss: 0.0700\n",
      "Epoch 11/50\n",
      "19/19 [==============================] - 0s 7ms/step - loss: 0.0405 - val_loss: 0.0657\n",
      "Epoch 12/50\n",
      "19/19 [==============================] - 0s 6ms/step - loss: 0.0379 - val_loss: 0.0627\n",
      "Epoch 13/50\n",
      "19/19 [==============================] - 0s 8ms/step - loss: 0.0366 - val_loss: 0.0615\n",
      "Epoch 14/50\n",
      "19/19 [==============================] - 0s 7ms/step - loss: 0.0357 - val_loss: 0.0607\n",
      "Epoch 15/50\n",
      "19/19 [==============================] - 0s 8ms/step - loss: 0.0359 - val_loss: 0.0606\n",
      "Epoch 16/50\n",
      "19/19 [==============================] - 0s 7ms/step - loss: 0.0357 - val_loss: 0.0597\n",
      "Epoch 17/50\n",
      "19/19 [==============================] - 0s 6ms/step - loss: 0.0347 - val_loss: 0.0597\n",
      "Epoch 18/50\n",
      "19/19 [==============================] - 0s 6ms/step - loss: 0.0348 - val_loss: 0.0589\n",
      "Epoch 19/50\n",
      "19/19 [==============================] - 0s 6ms/step - loss: 0.0352 - val_loss: 0.0588\n",
      "Epoch 20/50\n",
      "19/19 [==============================] - 0s 6ms/step - loss: 0.0344 - val_loss: 0.0585\n",
      "Epoch 21/50\n",
      "19/19 [==============================] - 0s 6ms/step - loss: 0.0344 - val_loss: 0.0584\n",
      "Epoch 22/50\n",
      "19/19 [==============================] - 0s 7ms/step - loss: 0.0343 - val_loss: 0.0579\n",
      "Epoch 23/50\n",
      "19/19 [==============================] - 0s 7ms/step - loss: 0.0349 - val_loss: 0.0582\n",
      "Epoch 24/50\n",
      "19/19 [==============================] - 0s 5ms/step - loss: 0.0335 - val_loss: 0.0577\n",
      "Epoch 25/50\n",
      "19/19 [==============================] - 0s 6ms/step - loss: 0.0332 - val_loss: 0.0578\n",
      "Epoch 26/50\n",
      "19/19 [==============================] - 0s 6ms/step - loss: 0.0332 - val_loss: 0.0571\n",
      "Epoch 27/50\n",
      "19/19 [==============================] - 0s 9ms/step - loss: 0.0336 - val_loss: 0.0571\n",
      "Epoch 28/50\n",
      "19/19 [==============================] - 0s 11ms/step - loss: 0.0335 - val_loss: 0.0569\n",
      "Epoch 29/50\n",
      "19/19 [==============================] - 0s 11ms/step - loss: 0.0331 - val_loss: 0.0565\n",
      "Epoch 30/50\n",
      "19/19 [==============================] - 0s 11ms/step - loss: 0.0335 - val_loss: 0.0564\n",
      "Epoch 31/50\n",
      "19/19 [==============================] - 0s 7ms/step - loss: 0.0328 - val_loss: 0.0565\n",
      "Epoch 32/50\n",
      "19/19 [==============================] - 0s 6ms/step - loss: 0.0329 - val_loss: 0.0561\n",
      "Epoch 33/50\n",
      "19/19 [==============================] - 0s 6ms/step - loss: 0.0327 - val_loss: 0.0558\n",
      "Epoch 34/50\n",
      "19/19 [==============================] - 0s 6ms/step - loss: 0.0322 - val_loss: 0.0544\n",
      "Epoch 35/50\n",
      "19/19 [==============================] - 0s 6ms/step - loss: 0.0318 - val_loss: 0.0539\n",
      "Epoch 36/50\n",
      "19/19 [==============================] - 0s 7ms/step - loss: 0.0315 - val_loss: 0.0535\n",
      "Epoch 37/50\n",
      "19/19 [==============================] - 0s 7ms/step - loss: 0.0310 - val_loss: 0.0521\n",
      "Epoch 38/50\n",
      "19/19 [==============================] - 0s 7ms/step - loss: 0.0309 - val_loss: 0.0517\n",
      "Epoch 39/50\n",
      "19/19 [==============================] - 0s 6ms/step - loss: 0.0299 - val_loss: 0.0512\n",
      "Epoch 40/50\n",
      "19/19 [==============================] - 0s 7ms/step - loss: 0.0295 - val_loss: 0.0509\n",
      "Epoch 41/50\n",
      "19/19 [==============================] - 0s 7ms/step - loss: 0.0290 - val_loss: 0.0505\n",
      "Epoch 42/50\n",
      "19/19 [==============================] - 0s 8ms/step - loss: 0.0285 - val_loss: 0.0508\n",
      "Epoch 43/50\n",
      "19/19 [==============================] - 0s 7ms/step - loss: 0.0278 - val_loss: 0.0506\n",
      "Epoch 44/50\n",
      "19/19 [==============================] - 0s 7ms/step - loss: 0.0278 - val_loss: 0.0500\n",
      "Epoch 45/50\n",
      "19/19 [==============================] - 0s 7ms/step - loss: 0.0273 - val_loss: 0.0498\n",
      "Epoch 46/50\n",
      "19/19 [==============================] - 0s 7ms/step - loss: 0.0268 - val_loss: 0.0498\n",
      "Epoch 47/50\n",
      "19/19 [==============================] - 0s 7ms/step - loss: 0.0272 - val_loss: 0.0498\n",
      "Epoch 48/50\n",
      "19/19 [==============================] - 0s 9ms/step - loss: 0.0276 - val_loss: 0.0500\n",
      "Epoch 49/50\n",
      "19/19 [==============================] - 0s 11ms/step - loss: 0.0266 - val_loss: 0.0495\n",
      "Epoch 50/50\n",
      "19/19 [==============================] - 0s 7ms/step - loss: 0.0270 - val_loss: 0.0499\n"
     ]
    }
   ],
   "source": [
    "history = model.fit(normal_train_data, normal_train_data,\n",
    "                   epochs = 50,\n",
    "                   batch_size = 128,\n",
    "                   validation_data = (train_data_scaled[:,1:], train_data_scaled[:,1:]),\n",
    "                   shuffle = True,\n",
    "                   callbacks=[early_stopping])"
   ]
  },
  {
   "cell_type": "code",
   "execution_count": 79,
   "id": "dramatic-thanks",
   "metadata": {},
   "outputs": [],
   "source": [
    "encoder_out = model.encoder(normal_test_data).numpy()\n",
    "decoder_out = model.decoder(encoder_out).numpy()"
   ]
  },
  {
   "cell_type": "code",
   "execution_count": 81,
   "id": "favorite-colombia",
   "metadata": {},
   "outputs": [
    {
     "data": {
      "text/plain": [
       "(558, 8)"
      ]
     },
     "execution_count": 81,
     "metadata": {},
     "output_type": "execute_result"
    }
   ],
   "source": [
    "encoder_out.shape"
   ]
  },
  {
   "cell_type": "code",
   "execution_count": 82,
   "id": "conditional-religion",
   "metadata": {},
   "outputs": [
    {
     "data": {
      "text/plain": [
       "[<matplotlib.lines.Line2D at 0x1e689dac3a0>]"
      ]
     },
     "execution_count": 82,
     "metadata": {},
     "output_type": "execute_result"
    },
    {
     "data": {
      "image/png": "[encoded data removed]",
      "text/plain": [
       "<Figure size 720x576 with 1 Axes>"
      ]
     },
     "metadata": {
      "needs_background": "light"
     },
     "output_type": "display_data"
    }
   ],
   "source": [
    "plt.plot(normal_test_data[0],'b')\n",
    "plt.plot(decoder_out[0],'r')"
   ]
  },
  {
   "cell_type": "code",
   "execution_count": 83,
   "id": "toxic-plasma",
   "metadata": {},
   "outputs": [
    {
     "data": {
      "text/plain": [
       "[<matplotlib.lines.Line2D at 0x1e68b5e7070>]"
      ]
     },
     "execution_count": 83,
     "metadata": {},
     "output_type": "execute_result"
    },
    {
     "data": {
      "image/png": "[encoded data removed]",
      "text/plain": [
       "<Figure size 720x576 with 1 Axes>"
      ]
     },
     "metadata": {
      "needs_background": "light"
     },
     "output_type": "display_data"
    }
   ],
   "source": [
    "plt.plot(anomaly_test_data[0],'b')\n",
    "plt.plot(decoder_out[0],'r')"
   ]
  },
  {
   "cell_type": "code",
   "execution_count": 85,
   "id": "phantom-reward",
   "metadata": {},
   "outputs": [
    {
     "data": {
      "text/plain": [
       "(array([[0., 0., 0., ..., 0., 0., 0.],\n",
       "        [0., 0., 0., ..., 0., 0., 0.],\n",
       "        [0., 0., 1., ..., 0., 0., 0.],\n",
       "        ...,\n",
       "        [0., 0., 0., ..., 0., 0., 0.],\n",
       "        [0., 0., 0., ..., 0., 0., 0.],\n",
       "        [0., 0., 0., ..., 0., 0., 0.]]),\n",
       " array([0.0115031 , 0.01325138, 0.01499967, 0.01674795, 0.01849624,\n",
       "        0.02024452, 0.02199281, 0.02374109, 0.02548938, 0.02723766,\n",
       "        0.02898595, 0.03073423, 0.03248252, 0.0342308 , 0.03597909,\n",
       "        0.03772737, 0.03947566, 0.04122394, 0.04297223, 0.04472052,\n",
       "        0.0464688 , 0.04821709, 0.04996537, 0.05171366, 0.05346194,\n",
       "        0.05521023, 0.05695851, 0.0587068 , 0.06045508, 0.06220337,\n",
       "        0.06395165, 0.06569994, 0.06744822, 0.06919651, 0.07094479,\n",
       "        0.07269308, 0.07444136, 0.07618965, 0.07793793, 0.07968622,\n",
       "        0.0814345 , 0.08318279, 0.08493107, 0.08667936, 0.08842764,\n",
       "        0.09017593, 0.09192421, 0.0936725 , 0.09542078, 0.09716907,\n",
       "        0.09891735]),\n",
       " <a list of 558 BarContainer objects>)"
      ]
     },
     "execution_count": 85,
     "metadata": {},
     "output_type": "execute_result"
    },
    {
     "data": {
      "image/png": "[encoded data removed]",
      "text/plain": [
       "<Figure size 720x576 with 1 Axes>"
      ]
     },
     "metadata": {
      "needs_background": "light"
     },
     "output_type": "display_data"
    }
   ],
   "source": [
    "reconstructions = model.predict(normal_test_data)\n",
    "train_loss = tf.keras.losses.mae(reconstructions, normal_test_data)\n",
    "\n",
    "plt.hist(train_loss, bins = 50)"
   ]
  },
  {
   "cell_type": "code",
   "execution_count": 87,
   "id": "becoming-ideal",
   "metadata": {},
   "outputs": [
    {
     "data": {
      "text/plain": [
       "0.02630876059906938"
      ]
     },
     "execution_count": 87,
     "metadata": {},
     "output_type": "execute_result"
    }
   ],
   "source": [
    "np.mean(train_loss)"
   ]
  },
  {
   "cell_type": "code",
   "execution_count": 88,
   "id": "individual-affiliate",
   "metadata": {},
   "outputs": [
    {
     "data": {
      "text/plain": [
       "0.011569062979802976"
      ]
     },
     "execution_count": 88,
     "metadata": {},
     "output_type": "execute_result"
    }
   ],
   "source": [
    "np.std(train_loss)"
   ]
  },
  {
   "cell_type": "code",
   "execution_count": 89,
   "id": "vocational-probability",
   "metadata": {},
   "outputs": [],
   "source": [
    "threshold = np.mean(train_loss) + 2*np.std(train_loss)"
   ]
  },
  {
   "cell_type": "code",
   "execution_count": 90,
   "id": "sonic-spirituality",
   "metadata": {},
   "outputs": [
    {
     "data": {
      "text/plain": [
       "0.04944688655867534"
      ]
     },
     "execution_count": 90,
     "metadata": {},
     "output_type": "execute_result"
    }
   ],
   "source": [
    "threshold"
   ]
  },
  {
   "cell_type": "code",
   "execution_count": 91,
   "id": "labeled-problem",
   "metadata": {},
   "outputs": [
    {
     "data": {
      "text/plain": [
       "(array([[0., 0., 0., ..., 0., 0., 0.],\n",
       "        [0., 0., 0., ..., 0., 0., 0.],\n",
       "        [0., 0., 0., ..., 0., 0., 0.],\n",
       "        ...,\n",
       "        [0., 0., 0., ..., 0., 0., 0.],\n",
       "        [0., 0., 0., ..., 0., 0., 0.],\n",
       "        [0., 0., 0., ..., 0., 0., 0.]]),\n",
       " array([0.03845217, 0.04155791, 0.04466365, 0.04776938, 0.05087512,\n",
       "        0.05398086, 0.0570866 , 0.06019234, 0.06329808, 0.06640381,\n",
       "        0.06950955, 0.07261529, 0.07572103, 0.07882677, 0.08193251,\n",
       "        0.08503824, 0.08814398, 0.09124972, 0.09435546, 0.0974612 ,\n",
       "        0.10056694, 0.10367267, 0.10677841, 0.10988415, 0.11298989,\n",
       "        0.11609563, 0.11920137, 0.1223071 , 0.12541284, 0.12851858,\n",
       "        0.13162432, 0.13473006, 0.1378358 , 0.14094153, 0.14404727,\n",
       "        0.14715301, 0.15025875, 0.15336449, 0.15647023, 0.15957597,\n",
       "        0.1626817 , 0.16578744, 0.16889318, 0.17199892, 0.17510466,\n",
       "        0.1782104 , 0.18131613, 0.18442187, 0.18752761, 0.19063335,\n",
       "        0.19373909]),\n",
       " <a list of 442 BarContainer objects>)"
      ]
     },
     "execution_count": 91,
     "metadata": {},
     "output_type": "execute_result"
    },
    {
     "data": {
      "image/png": "[encoded data removed]",
      "text/plain": [
       "<Figure size 720x576 with 1 Axes>"
      ]
     },
     "metadata": {
      "needs_background": "light"
     },
     "output_type": "display_data"
    }
   ],
   "source": [
    "reconstructions = model.predict(anomaly_test_data)\n",
    "test_loss = tf.keras.losses.mae(reconstructions, anomaly_test_data)\n",
    "\n",
    "plt.hist(test_loss, bins = 50)"
   ]
  },
  {
   "cell_type": "code",
   "execution_count": 94,
   "id": "derived-kuwait",
   "metadata": {},
   "outputs": [
    {
     "data": {
      "text/plain": [
       "0.08311017563489527"
      ]
     },
     "execution_count": 94,
     "metadata": {},
     "output_type": "execute_result"
    }
   ],
   "source": [
    "np.mean(test_loss)"
   ]
  },
  {
   "cell_type": "code",
   "execution_count": 95,
   "id": "expanded-broadcasting",
   "metadata": {},
   "outputs": [
    {
     "data": {
      "text/plain": [
       "0.015774353522477323"
      ]
     },
     "execution_count": 95,
     "metadata": {},
     "output_type": "execute_result"
    }
   ],
   "source": [
    "np.std(test_loss)"
   ]
  },
  {
   "cell_type": "code",
   "execution_count": 96,
   "id": "fatty-relaxation",
   "metadata": {},
   "outputs": [
    {
     "data": {
      "text/plain": [
       "<tf.Tensor: shape=(558,), dtype=bool, numpy=\n",
       "array([ True,  True,  True,  True,  True,  True,  True,  True, False,\n",
       "        True,  True,  True,  True,  True,  True,  True,  True,  True,\n",
       "        True,  True,  True,  True,  True,  True,  True,  True,  True,\n",
       "        True,  True,  True,  True,  True,  True,  True,  True,  True,\n",
       "        True,  True,  True,  True,  True,  True,  True,  True,  True,\n",
       "        True,  True,  True,  True,  True,  True,  True,  True,  True,\n",
       "        True,  True,  True,  True,  True,  True,  True,  True,  True,\n",
       "        True,  True,  True,  True,  True,  True,  True,  True,  True,\n",
       "        True,  True,  True,  True,  True,  True,  True,  True,  True,\n",
       "        True,  True,  True,  True,  True,  True,  True,  True,  True,\n",
       "        True,  True,  True,  True,  True,  True,  True,  True,  True,\n",
       "        True,  True,  True,  True,  True,  True,  True,  True,  True,\n",
       "        True,  True,  True,  True,  True,  True,  True,  True,  True,\n",
       "        True,  True,  True,  True,  True,  True,  True,  True,  True,\n",
       "        True,  True,  True, False,  True,  True,  True,  True,  True,\n",
       "        True,  True,  True,  True,  True,  True,  True,  True,  True,\n",
       "        True,  True,  True,  True,  True,  True,  True,  True,  True,\n",
       "        True,  True,  True,  True,  True,  True,  True,  True,  True,\n",
       "        True,  True,  True,  True,  True,  True,  True,  True,  True,\n",
       "        True,  True,  True,  True,  True,  True,  True, False,  True,\n",
       "        True,  True,  True,  True,  True,  True,  True,  True,  True,\n",
       "        True,  True,  True,  True,  True,  True,  True,  True,  True,\n",
       "        True,  True,  True,  True,  True,  True,  True,  True,  True,\n",
       "        True,  True,  True,  True,  True,  True,  True,  True,  True,\n",
       "        True,  True,  True,  True,  True,  True,  True,  True,  True,\n",
       "       False,  True,  True,  True,  True,  True,  True,  True,  True,\n",
       "       False,  True,  True,  True,  True,  True,  True,  True,  True,\n",
       "        True,  True,  True,  True, False,  True,  True,  True,  True,\n",
       "        True,  True,  True,  True,  True,  True,  True,  True,  True,\n",
       "        True,  True,  True,  True,  True,  True,  True,  True,  True,\n",
       "        True,  True,  True,  True,  True,  True,  True,  True,  True,\n",
       "        True,  True, False,  True,  True,  True,  True,  True,  True,\n",
       "        True,  True,  True,  True, False,  True,  True,  True,  True,\n",
       "        True,  True, False,  True,  True,  True,  True,  True,  True,\n",
       "        True,  True,  True,  True,  True,  True,  True,  True,  True,\n",
       "        True,  True,  True,  True,  True,  True,  True, False,  True,\n",
       "        True,  True,  True,  True,  True,  True,  True,  True,  True,\n",
       "        True,  True,  True,  True,  True,  True,  True,  True,  True,\n",
       "        True,  True,  True,  True,  True,  True,  True,  True,  True,\n",
       "        True,  True,  True,  True,  True,  True,  True, False,  True,\n",
       "        True,  True,  True,  True,  True,  True,  True,  True,  True,\n",
       "        True,  True,  True,  True,  True,  True,  True,  True,  True,\n",
       "        True,  True,  True,  True,  True,  True,  True,  True,  True,\n",
       "        True, False,  True,  True,  True,  True,  True,  True,  True,\n",
       "        True,  True,  True,  True,  True,  True,  True,  True,  True,\n",
       "        True,  True,  True,  True,  True,  True,  True,  True,  True,\n",
       "        True,  True,  True,  True,  True,  True,  True,  True,  True,\n",
       "        True, False,  True,  True,  True,  True,  True,  True,  True,\n",
       "        True,  True,  True,  True,  True,  True, False,  True,  True,\n",
       "        True,  True,  True,  True,  True,  True,  True,  True,  True,\n",
       "        True,  True,  True,  True,  True,  True,  True,  True,  True,\n",
       "        True,  True,  True,  True,  True,  True,  True,  True, False,\n",
       "        True,  True,  True,  True,  True,  True,  True,  True,  True,\n",
       "        True,  True,  True,  True,  True,  True,  True,  True,  True,\n",
       "        True,  True,  True,  True,  True,  True,  True,  True,  True,\n",
       "        True,  True,  True,  True,  True,  True,  True,  True,  True,\n",
       "        True,  True,  True,  True,  True,  True,  True,  True,  True,\n",
       "        True,  True,  True,  True, False,  True, False,  True,  True,\n",
       "        True,  True,  True,  True,  True,  True, False,  True,  True,\n",
       "        True,  True,  True,  True,  True,  True, False,  True,  True,\n",
       "        True,  True, False,  True,  True,  True,  True,  True,  True,\n",
       "        True,  True,  True,  True,  True, False,  True,  True,  True])>"
      ]
     },
     "execution_count": 96,
     "metadata": {},
     "output_type": "execute_result"
    }
   ],
   "source": [
    "tf.math.less(train_loss, threshold)"
   ]
  },
  {
   "cell_type": "code",
   "execution_count": 97,
   "id": "coastal-pierre",
   "metadata": {},
   "outputs": [],
   "source": [
    "preds = tf.math.less(train_loss, threshold)"
   ]
  },
  {
   "cell_type": "code",
   "execution_count": 100,
   "id": "nonprofit-batman",
   "metadata": {},
   "outputs": [
    {
     "data": {
      "text/plain": [
       "<tf.Tensor: shape=(), dtype=int64, numpy=537>"
      ]
     },
     "execution_count": 100,
     "metadata": {},
     "output_type": "execute_result"
    }
   ],
   "source": [
    "tf.math.count_nonzero(preds)"
   ]
  },
  {
   "cell_type": "code",
   "execution_count": 101,
   "id": "reasonable-cigarette",
   "metadata": {},
   "outputs": [
    {
     "data": {
      "text/plain": [
       "TensorShape([558])"
      ]
     },
     "execution_count": 101,
     "metadata": {},
     "output_type": "execute_result"
    }
   ],
   "source": [
    "preds.shape"
   ]
  },
  {
   "cell_type": "code",
   "execution_count": 102,
   "id": "alternative-haven",
   "metadata": {},
   "outputs": [],
   "source": [
    "preds_a = tf.math.greater(test_loss, threshold)"
   ]
  },
  {
   "cell_type": "code",
   "execution_count": 103,
   "id": "mental-leadership",
   "metadata": {},
   "outputs": [
    {
     "data": {
      "text/plain": [
       "<tf.Tensor: shape=(), dtype=int64, numpy=437>"
      ]
     },
     "execution_count": 103,
     "metadata": {},
     "output_type": "execute_result"
    }
   ],
   "source": [
    "tf.math.count_nonzero(preds_a)"
   ]
  },
  {
   "cell_type": "code",
   "execution_count": 104,
   "id": "coated-brook",
   "metadata": {},
   "outputs": [
    {
     "data": {
      "text/plain": [
       "TensorShape([442])"
      ]
     },
     "execution_count": 104,
     "metadata": {},
     "output_type": "execute_result"
    }
   ],
   "source": [
    "preds_a.shape"
   ]
  },
  {
   "cell_type": "code",
   "execution_count": null,
   "id": "amino-skating",
   "metadata": {},
   "outputs": [],
   "source": []
  }
 ],
 "metadata": {
  "kernelspec": {
   "display_name": "Python 3",
   "language": "python",
   "name": "python3"
  },
  "language_info": {
   "codemirror_mode": {
    "name": "ipython",
    "version": 3
   },
   "file_extension": ".py",
   "mimetype": "text/x-python",
   "name": "python",
   "nbconvert_exporter": "python",
   "pygments_lexer": "ipython3",
   "version": "3.9.2"
  }
 },
 "nbformat": 4,
 "nbformat_minor": 5
}
